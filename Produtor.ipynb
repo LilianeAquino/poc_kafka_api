{
 "cells": [
  {
   "cell_type": "markdown",
   "id": "404e99ac",
   "metadata": {},
   "source": [
    "# Criando producers com Kafka"
   ]
  },
  {
   "cell_type": "markdown",
   "id": "d6c9b8a0",
   "metadata": {},
   "source": [
    "### Bibliotecas e outras inicializações"
   ]
  },
  {
   "cell_type": "code",
   "execution_count": 1,
   "id": "9c8f23be",
   "metadata": {
    "ExecuteTime": {
     "end_time": "2022-01-06T17:50:11.440525Z",
     "start_time": "2022-01-06T17:50:11.370033Z"
    }
   },
   "outputs": [],
   "source": [
    "from kafka import KafkaProducer\n",
    "import random"
   ]
  },
  {
   "cell_type": "markdown",
   "id": "a562a45f",
   "metadata": {},
   "source": [
    "### Instanciando um produtor"
   ]
  },
  {
   "cell_type": "code",
   "execution_count": 2,
   "id": "09874e57",
   "metadata": {
    "ExecuteTime": {
     "end_time": "2022-01-06T17:50:11.559912Z",
     "start_time": "2022-01-06T17:50:11.443702Z"
    }
   },
   "outputs": [],
   "source": [
    "produtor = KafkaProducer(bootstrap_servers='localhost:9092')"
   ]
  },
  {
   "cell_type": "markdown",
   "id": "6c7beae8",
   "metadata": {},
   "source": [
    "### Criando mensagens"
   ]
  },
  {
   "cell_type": "code",
   "execution_count": 4,
   "id": "5c3940ae",
   "metadata": {
    "ExecuteTime": {
     "end_time": "2022-01-06T17:50:54.561574Z",
     "start_time": "2022-01-06T17:50:54.553215Z"
    }
   },
   "outputs": [],
   "source": [
    "for x in range(10):\n",
    "    n = random.random()\n",
    "    produtor.send('topico_mensagens', key=b'Chave %d' % x, value=b'Mensagens %f' % n)"
   ]
  }
 ],
 "metadata": {
  "kernelspec": {
   "display_name": "Python 3 (ipykernel)",
   "language": "python",
   "name": "python3"
  },
  "language_info": {
   "codemirror_mode": {
    "name": "ipython",
    "version": 3
   },
   "file_extension": ".py",
   "mimetype": "text/x-python",
   "name": "python",
   "nbconvert_exporter": "python",
   "pygments_lexer": "ipython3",
   "version": "3.7.9"
  },
  "nbTranslate": {
   "displayLangs": [
    "*"
   ],
   "hotkey": "alt-t",
   "langInMainMenu": true,
   "sourceLang": "en",
   "targetLang": "fr",
   "useGoogleTranslate": true
  },
  "toc": {
   "base_numbering": 1,
   "nav_menu": {},
   "number_sections": true,
   "sideBar": true,
   "skip_h1_title": false,
   "title_cell": "Table of Contents",
   "title_sidebar": "Contents",
   "toc_cell": false,
   "toc_position": {},
   "toc_section_display": true,
   "toc_window_display": false
  },
  "varInspector": {
   "cols": {
    "lenName": 16,
    "lenType": 16,
    "lenVar": 40
   },
   "kernels_config": {
    "python": {
     "delete_cmd_postfix": "",
     "delete_cmd_prefix": "del ",
     "library": "var_list.py",
     "varRefreshCmd": "print(var_dic_list())"
    },
    "r": {
     "delete_cmd_postfix": ") ",
     "delete_cmd_prefix": "rm(",
     "library": "var_list.r",
     "varRefreshCmd": "cat(var_dic_list()) "
    }
   },
   "types_to_exclude": [
    "module",
    "function",
    "builtin_function_or_method",
    "instance",
    "_Feature"
   ],
   "window_display": false
  }
 },
 "nbformat": 4,
 "nbformat_minor": 5
}
