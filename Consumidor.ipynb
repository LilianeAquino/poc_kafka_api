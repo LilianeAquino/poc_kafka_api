{
 "cells": [
  {
   "cell_type": "markdown",
   "id": "218a0435",
   "metadata": {},
   "source": [
    "# Criando consumers com Kafka"
   ]
  },
  {
   "cell_type": "markdown",
   "id": "34fcf0d8",
   "metadata": {},
   "source": [
    "### Bibliotecas e outras inicializações"
   ]
  },
  {
   "cell_type": "code",
   "execution_count": 1,
   "id": "4f81eac7",
   "metadata": {
    "ExecuteTime": {
     "end_time": "2022-01-06T17:50:15.994886Z",
     "start_time": "2022-01-06T17:50:15.930375Z"
    }
   },
   "outputs": [],
   "source": [
    "from kafka import KafkaConsumer"
   ]
  },
  {
   "cell_type": "markdown",
   "id": "bb615dff",
   "metadata": {},
   "source": [
    "### Instanciando um produtor"
   ]
  },
  {
   "cell_type": "code",
   "execution_count": 4,
   "id": "3ad5707d",
   "metadata": {
    "ExecuteTime": {
     "end_time": "2022-01-06T17:50:57.828400Z",
     "start_time": "2022-01-06T17:50:57.703015Z"
    }
   },
   "outputs": [],
   "source": [
    "consumidor = KafkaConsumer('topico_mensagens', \n",
    "                bootstrap_servers='localhost:9092', \n",
    "                consumer_timeout_ms=1000, \n",
    "                group_id='consumidores')"
   ]
  },
  {
   "cell_type": "markdown",
   "id": "8e06e70f",
   "metadata": {},
   "source": [
    "### Lendo mensagens"
   ]
  },
  {
   "cell_type": "code",
   "execution_count": 5,
   "id": "07446da3",
   "metadata": {
    "ExecuteTime": {
     "end_time": "2022-01-06T17:51:07.946545Z",
     "start_time": "2022-01-06T17:50:58.227907Z"
    },
    "scrolled": false
   },
   "outputs": [
    {
     "name": "stdout",
     "output_type": "stream",
     "text": [
      "Tópico: topico_mensagens\n",
      "Partição: 0\n",
      "Chave: b'Chave 0'\n",
      "Offset: 50\n",
      "Mensagem: b'Mensagens 0.132117 '\n",
      "----------------------------\n",
      "Tópico: topico_mensagens\n",
      "Partição: 0\n",
      "Chave: b'Chave 1'\n",
      "Offset: 51\n",
      "Mensagem: b'Mensagens 0.401605 '\n",
      "----------------------------\n",
      "Tópico: topico_mensagens\n",
      "Partição: 0\n",
      "Chave: b'Chave 2'\n",
      "Offset: 52\n",
      "Mensagem: b'Mensagens 0.607176 '\n",
      "----------------------------\n",
      "Tópico: topico_mensagens\n",
      "Partição: 0\n",
      "Chave: b'Chave 3'\n",
      "Offset: 53\n",
      "Mensagem: b'Mensagens 0.158537 '\n",
      "----------------------------\n",
      "Tópico: topico_mensagens\n",
      "Partição: 0\n",
      "Chave: b'Chave 4'\n",
      "Offset: 54\n",
      "Mensagem: b'Mensagens 0.697244 '\n",
      "----------------------------\n",
      "Tópico: topico_mensagens\n",
      "Partição: 0\n",
      "Chave: b'Chave 5'\n",
      "Offset: 55\n",
      "Mensagem: b'Mensagens 0.526219 '\n",
      "----------------------------\n",
      "Tópico: topico_mensagens\n",
      "Partição: 0\n",
      "Chave: b'Chave 6'\n",
      "Offset: 56\n",
      "Mensagem: b'Mensagens 0.803931 '\n",
      "----------------------------\n",
      "Tópico: topico_mensagens\n",
      "Partição: 0\n",
      "Chave: b'Chave 7'\n",
      "Offset: 57\n",
      "Mensagem: b'Mensagens 0.079422 '\n",
      "----------------------------\n",
      "Tópico: topico_mensagens\n",
      "Partição: 0\n",
      "Chave: b'Chave 8'\n",
      "Offset: 58\n",
      "Mensagem: b'Mensagens 0.087609 '\n",
      "----------------------------\n",
      "Tópico: topico_mensagens\n",
      "Partição: 0\n",
      "Chave: b'Chave 9'\n",
      "Offset: 59\n",
      "Mensagem: b'Mensagens 0.271426 '\n",
      "----------------------------\n",
      "Tópico: topico_mensagens\n",
      "Partição: 0\n",
      "Chave: b'Chave 0'\n",
      "Offset: 60\n",
      "Mensagem: b'Mensagens 0.840080 '\n",
      "----------------------------\n",
      "Tópico: topico_mensagens\n",
      "Partição: 0\n",
      "Chave: b'Chave 1'\n",
      "Offset: 61\n",
      "Mensagem: b'Mensagens 0.753928 '\n",
      "----------------------------\n",
      "Tópico: topico_mensagens\n",
      "Partição: 0\n",
      "Chave: b'Chave 2'\n",
      "Offset: 62\n",
      "Mensagem: b'Mensagens 0.627445 '\n",
      "----------------------------\n",
      "Tópico: topico_mensagens\n",
      "Partição: 0\n",
      "Chave: b'Chave 3'\n",
      "Offset: 63\n",
      "Mensagem: b'Mensagens 0.497999 '\n",
      "----------------------------\n",
      "Tópico: topico_mensagens\n",
      "Partição: 0\n",
      "Chave: b'Chave 4'\n",
      "Offset: 64\n",
      "Mensagem: b'Mensagens 0.876411 '\n",
      "----------------------------\n",
      "Tópico: topico_mensagens\n",
      "Partição: 0\n",
      "Chave: b'Chave 5'\n",
      "Offset: 65\n",
      "Mensagem: b'Mensagens 0.874974 '\n",
      "----------------------------\n",
      "Tópico: topico_mensagens\n",
      "Partição: 0\n",
      "Chave: b'Chave 6'\n",
      "Offset: 66\n",
      "Mensagem: b'Mensagens 0.943629 '\n",
      "----------------------------\n",
      "Tópico: topico_mensagens\n",
      "Partição: 0\n",
      "Chave: b'Chave 7'\n",
      "Offset: 67\n",
      "Mensagem: b'Mensagens 0.487954 '\n",
      "----------------------------\n",
      "Tópico: topico_mensagens\n",
      "Partição: 0\n",
      "Chave: b'Chave 8'\n",
      "Offset: 68\n",
      "Mensagem: b'Mensagens 0.408533 '\n",
      "----------------------------\n",
      "Tópico: topico_mensagens\n",
      "Partição: 0\n",
      "Chave: b'Chave 9'\n",
      "Offset: 69\n",
      "Mensagem: b'Mensagens 0.040616 '\n",
      "----------------------------\n"
     ]
    }
   ],
   "source": [
    "for mensagem in consumidor:\n",
    "    print(f'Tópico: {mensagem.topic}')\n",
    "    print(f'Partição: {mensagem.partition}')\n",
    "    print(f'Chave: {mensagem.key}')\n",
    "    print(f'Offset: {mensagem.offset}')\n",
    "    print(f'Mensagem: {mensagem.value}')\n",
    "    print('----------------------------')"
   ]
  }
 ],
 "metadata": {
  "hide_input": false,
  "kernelspec": {
   "display_name": "Python 3 (ipykernel)",
   "language": "python",
   "name": "python3"
  },
  "language_info": {
   "codemirror_mode": {
    "name": "ipython",
    "version": 3
   },
   "file_extension": ".py",
   "mimetype": "text/x-python",
   "name": "python",
   "nbconvert_exporter": "python",
   "pygments_lexer": "ipython3",
   "version": "3.7.9"
  },
  "nbTranslate": {
   "displayLangs": [
    "*"
   ],
   "hotkey": "alt-t",
   "langInMainMenu": true,
   "sourceLang": "en",
   "targetLang": "fr",
   "useGoogleTranslate": true
  },
  "toc": {
   "base_numbering": 1,
   "nav_menu": {},
   "number_sections": true,
   "sideBar": true,
   "skip_h1_title": false,
   "title_cell": "Table of Contents",
   "title_sidebar": "Contents",
   "toc_cell": false,
   "toc_position": {},
   "toc_section_display": true,
   "toc_window_display": false
  },
  "varInspector": {
   "cols": {
    "lenName": 16,
    "lenType": 16,
    "lenVar": 40
   },
   "kernels_config": {
    "python": {
     "delete_cmd_postfix": "",
     "delete_cmd_prefix": "del ",
     "library": "var_list.py",
     "varRefreshCmd": "print(var_dic_list())"
    },
    "r": {
     "delete_cmd_postfix": ") ",
     "delete_cmd_prefix": "rm(",
     "library": "var_list.r",
     "varRefreshCmd": "cat(var_dic_list()) "
    }
   },
   "types_to_exclude": [
    "module",
    "function",
    "builtin_function_or_method",
    "instance",
    "_Feature"
   ],
   "window_display": false
  }
 },
 "nbformat": 4,
 "nbformat_minor": 5
}
